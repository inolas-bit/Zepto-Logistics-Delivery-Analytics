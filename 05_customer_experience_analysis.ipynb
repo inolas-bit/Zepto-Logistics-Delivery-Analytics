{
 "cells": [
  {
   "cell_type": "code",
   "execution_count": null,
   "id": "ca01a2c7-f76b-4212-9d87-a7be23253a00",
   "metadata": {},
   "outputs": [],
   "source": [
    "#Customer_Experience"
   ]
  },
  {
   "cell_type": "code",
   "execution_count": 1,
   "id": "58fb5351-9b8e-4f6c-ae02-0b606cd09d88",
   "metadata": {},
   "outputs": [],
   "source": [
    "import pandas as pd\n",
    "import seaborn as sns\n",
    "import matplotlib.pyplot as plt\n",
    "from sklearn.model_selection import train_test_split\n",
    "from sklearn.ensemble import RandomForestClassifier\n",
    "from sklearn.metrics import classification_report, confusion_matrix\n",
    "\n",
    "# Load cleaned data\n",
    "df = pd.read_csv('zepto_logistics_cleaned.csv')\n"
   ]
  },
  {
   "cell_type": "code",
   "execution_count": 8,
   "id": "eb437501-a7aa-4d30-9d76-2d13d4c899e5",
   "metadata": {},
   "outputs": [
    {
     "name": "stdout",
     "output_type": "stream",
     "text": [
      "<class 'pandas.core.frame.DataFrame'>\n",
      "RangeIndex: 3732 entries, 0 to 3731\n",
      "Data columns (total 18 columns):\n",
      " #   Column                      Non-Null Count  Dtype  \n",
      "---  ------                      --------------  -----  \n",
      " 0   Category                    3732 non-null   object \n",
      " 1   name                        3732 non-null   object \n",
      " 2   mrp                         3732 non-null   int64  \n",
      " 3   discountPercent             3732 non-null   int64  \n",
      " 4   availableQuantity           3732 non-null   int64  \n",
      " 5   discountedSellingPrice      3732 non-null   int64  \n",
      " 6   weightInGms                 3732 non-null   int64  \n",
      " 7   outOfStock                  3732 non-null   bool   \n",
      " 8   quantity                    3732 non-null   int64  \n",
      " 9   Delivery_Zone               3732 non-null   object \n",
      " 10  Distance_km                 3732 non-null   float64\n",
      " 11  Partner_Type                3732 non-null   object \n",
      " 12  Fuel_Cost                   3732 non-null   float64\n",
      " 13  Partner_Payout              3732 non-null   float64\n",
      " 14  Delivery_Time_min           3732 non-null   float64\n",
      " 15  Expected_Delivery_Time_min  3732 non-null   float64\n",
      " 16  is_delayed                  3732 non-null   int64  \n",
      " 17  Customer_Experience         3732 non-null   object \n",
      "dtypes: bool(1), float64(5), int64(7), object(5)\n",
      "memory usage: 499.4+ KB\n"
     ]
    }
   ],
   "source": [
    "df.info()"
   ]
  },
  {
   "cell_type": "code",
   "execution_count": 6,
   "id": "f10b6fbd-e3e2-4f6c-9db9-016aca82e3d3",
   "metadata": {},
   "outputs": [
    {
     "name": "stdout",
     "output_type": "stream",
     "text": [
      "\n",
      "DataFrame with new columns and Customer_Experience:\n",
      "   Delivery_Time_min  Expected_Delivery_Time_min  Distance_km  is_delayed  \\\n",
      "0               61.4                        57.4         6.67           1   \n",
      "1               43.0                        45.0         4.61           0   \n",
      "2                5.1                         6.1         1.34           0   \n",
      "3               19.9                         5.9         4.14           1   \n",
      "4               35.0                        22.0         5.57           1   \n",
      "\n",
      "  Customer_Experience  \n",
      "0                 Bad  \n",
      "1                Good  \n",
      "2                Good  \n",
      "3                 Bad  \n",
      "4                 Bad  \n"
     ]
    }
   ],
   "source": [
    "import pandas as pd\n",
    "import numpy as np\n",
    "\n",
    "if 'Delivery_Time_min' not in df.columns:\n",
    "    df['Delivery_Time_min'] = np.random.uniform(15, 60, len(df)) # Example: Delivery times between 15 and 60 mins\n",
    "\n",
    "\n",
    "if 'Expected_Delivery_Time_min' not in df.columns:\n",
    "   \n",
    "    df['Expected_Delivery_Time_min'] = df['Delivery_Time_min'] - np.random.randint(-5, 15, len(df))\n",
    "  \n",
    "    df['Expected_Delivery_Time_min'] = df['Expected_Delivery_Time_min'].apply(lambda x: max(x, 5))\n",
    "\n",
    "\n",
    "\n",
    "if 'Distance_km' not in df.columns:\n",
    "    df['Distance_km'] = np.random.uniform(1, 30, len(df)) # Example: Distance in km between 1 and 30\n",
    "\n",
    "\n",
    "df['is_delayed'] = (df['Delivery_Time_min'] > df['Expected_Delivery_Time_min']).astype(int)\n",
    "\n",
    "\n",
    "df['Customer_Experience'] = df.apply(\n",
    "    lambda x: 'Good' if x['is_delayed'] == 0 and x['Distance_km'] <= 10 else 'Bad',\n",
    "    axis=1)\n",
    "\n",
    "\n",
    "# You can check the new columns\n",
    "print(\"\\nDataFrame with new columns and Customer_Experience:\")\n",
    "print(df[['Delivery_Time_min', 'Expected_Delivery_Time_min', 'Distance_km', 'is_delayed', 'Customer_Experience']].head())"
   ]
  },
  {
   "cell_type": "code",
   "execution_count": 10,
   "id": "b6469375-6554-4e99-ada1-b28354f579db",
   "metadata": {},
   "outputs": [
    {
     "name": "stdout",
     "output_type": "stream",
     "text": [
      "Successfully created X and y DataFrames.\n",
      "X head:\n",
      "    Distance_km  Partner_Payout  Delivery_Time_min  Delivery_Zone_East  \\\n",
      "0         6.67           18.34               61.4               False   \n",
      "1         4.61           14.22               43.0               False   \n",
      "2         1.34           16.70                5.1                True   \n",
      "3         4.14           30.70               19.9               False   \n",
      "4         5.57           21.71               35.0               False   \n",
      "\n",
      "   Delivery_Zone_North  Delivery_Zone_South  Delivery_Zone_West  \\\n",
      "0                False                False                True   \n",
      "1                False                False               False   \n",
      "2                False                False               False   \n",
      "3                False                False               False   \n",
      "4                False                False               False   \n",
      "\n",
      "   Partner_Type_Rider  Partner_Type_Walker  \n",
      "0               False                 True  \n",
      "1               False                 True  \n",
      "2                True                False  \n",
      "3                True                False  \n",
      "4               False                False  \n",
      "\n",
      "y head:\n",
      " 0    0\n",
      "1    1\n",
      "2    1\n",
      "3    0\n",
      "4    0\n",
      "Name: Customer_Experience_Label, dtype: int64\n"
     ]
    }
   ],
   "source": [
    "#Encode Categorical Variables\n",
    "\n",
    "\n",
    "\n",
    "if 'Partner_Type' not in df.columns: \n",
    "    df['Partner_Type'] = np.random.choice(['Individual', 'Company'], len(df))\n",
    "\n",
    "if 'Partner_Payout' not in df.columns:\n",
    "    df['Partner_Payout'] = np.random.uniform(5, 50, len(df)) \n",
    "\n",
    "\n",
    "df_model = df.copy()\n",
    "\n",
    "df_model['Customer_Experience_Label'] = df_model['Customer_Experience'].map({'Good': 1, 'Bad': 0})\n",
    "\n",
    "\n",
    "X = pd.get_dummies(df_model[['Delivery_Zone', 'Partner_Type', 'Distance_km', 'Partner_Payout', 'Delivery_Time_min']], drop_first=True)\n",
    "y = df_model['Customer_Experience_Label']\n",
    "\n",
    "print(\"Successfully created X and y DataFrames.\")\n",
    "print(\"X head:\\n\", X.head())\n",
    "print(\"\\ny head:\\n\", y.head())\n"
   ]
  },
  {
   "cell_type": "code",
   "execution_count": 11,
   "id": "8011b29f-4571-4f13-b4f7-ba1746e72e9e",
   "metadata": {},
   "outputs": [],
   "source": [
    " #Train/Test Split & Modeling\n",
    "\n",
    "X_train, X_test, y_train, y_test = train_test_split(X, y, test_size=0.2, random_state=42)\n",
    "\n",
    "model = RandomForestClassifier(n_estimators=100, random_state=42)\n",
    "model.fit(X_train, y_train)\n",
    "\n",
    "y_pred = model.predict(X_test)\n"
   ]
  },
  {
   "cell_type": "code",
   "execution_count": 12,
   "id": "75e9e303-4a06-4340-a768-9866346eb705",
   "metadata": {},
   "outputs": [
    {
     "name": "stdout",
     "output_type": "stream",
     "text": [
      "Classification Report:\n",
      "              precision    recall  f1-score   support\n",
      "\n",
      "           0       0.72      0.80      0.76       507\n",
      "           1       0.45      0.34      0.39       240\n",
      "\n",
      "    accuracy                           0.66       747\n",
      "   macro avg       0.59      0.57      0.58       747\n",
      "weighted avg       0.63      0.66      0.64       747\n",
      "\n"
     ]
    },
    {
     "data": {
      "image/png": "[encoded data removed]",
      "text/plain": [
       "<Figure size 640x480 with 2 Axes>"
      ]
     },
     "metadata": {},
     "output_type": "display_data"
    }
   ],
   "source": [
    "#Model Evaluation\n",
    "print(\"Classification Report:\")\n",
    "print(classification_report(y_test, y_pred))\n",
    "\n",
    "sns.heatmap(confusion_matrix(y_test, y_pred), annot=True, fmt='d', cmap='Blues')\n",
    "plt.title(\"Confusion Matrix\")\n",
    "plt.xlabel(\"Predicted\")\n",
    "plt.ylabel(\"Actual\")\n",
    "plt.show()\n"
   ]
  },
  {
   "cell_type": "code",
   "execution_count": 13,
   "id": "050285c0-50d9-44c1-9eaf-a4c386609b56",
   "metadata": {},
   "outputs": [
    {
     "data": {
      "image/png": "[encoded data removed]",
      "text/plain": [
       "<Figure size 640x480 with 1 Axes>"
      ]
     },
     "metadata": {},
     "output_type": "display_data"
    }
   ],
   "source": [
    "#Feature Importance\n",
    "\n",
    "feature_importance = pd.DataFrame({\n",
    "    'Feature': X.columns,\n",
    "    'Importance': model.feature_importances_\n",
    "}).sort_values(by='Importance', ascending=False)\n",
    "\n",
    "sns.barplot(data=feature_importance, x='Importance', y='Feature')\n",
    "plt.title(\"Feature Importance on Customer Experience\")\n",
    "plt.show()\n"
   ]
  },
  {
   "cell_type": "code",
   "execution_count": 16,
   "id": "6faf2d13-83a3-4186-bd70-0fcf0b0b1997",
   "metadata": {},
   "outputs": [
    {
     "name": "stdout",
     "output_type": "stream",
     "text": [
      " Exported customer experience predictions to 'customer_experience_prediction.csv'\n"
     ]
    }
   ],
   "source": [
    "#Export Predictions\n",
    "\n",
    "df_model['Customer_Experience_Predicted'] = model.predict(X)\n",
    "df_model[[ 'Customer_Experience', 'Customer_Experience_Predicted']].to_csv(\n",
    "    'customer_experience_prediction.csv', index=False)\n",
    "\n",
    "print(\" Exported customer experience predictions to 'customer_experience_prediction.csv'\")\n"
   ]
  },
  {
   "cell_type": "code",
   "execution_count": null,
   "id": "c816eaeb-c279-40ad-a559-4056e0c4a3b1",
   "metadata": {},
   "outputs": [],
   "source": [
    "# Predictive Modeling: Customer Experience Impact\n",
    "\n",
    "We trained a Random Forest model to predict whether a customer had a good or bad experience based on delivery metrics. Since explicit ratings were not available, we used a proxy logic combining delay and distance.\n",
    "\n",
    "## Key Insights:\n",
    "- On-time deliveries under 10 km usually result in good experiences\n",
    "- Delivery zone and time were top predictors\n",
    "- The model helps flag poor experience zones before customer churn occurs\n"
   ]
  },
  {
   "cell_type": "code",
   "execution_count": 18,
   "id": "a2067a9f-ea6d-4216-9bba-7819b5a9c029",
   "metadata": {},
   "outputs": [
    {
     "name": "stdout",
     "output_type": "stream",
     "text": [
      "✅ Merged and exported: 'zepto_powerbi_master.csv'\n"
     ]
    }
   ],
   "source": [
    "import pandas as pd\n",
    "\n",
    "\n",
    "main_df = pd.read_csv('zepto_logistics_cleaned.csv')\n",
    "\n",
    "route_clusters = pd.read_csv('route_cluster_labels.csv')\n",
    "customer_experience = pd.read_csv('customer_experience_prediction.csv')\n",
    "\n",
    "\n",
    "route_clusters = route_clusters.drop(columns=['order_id'], errors='ignore')\n",
    "customer_experience = customer_experience.drop(columns=['order_id'], errors='ignore')\n",
    "\n",
    "\n",
    "merged_df = pd.concat([\n",
    "    main_df.reset_index(drop=True),\n",
    "    route_clusters.reset_index(drop=True),\n",
    "    customer_experience[['Customer_Experience_Predicted']].reset_index(drop=True)\n",
    "], axis=1)\n",
    "\n",
    "merged_df.to_csv('zepto_powerbi_master.csv', index=False)\n",
    "\n",
    "print(\"✅ Merged and exported: 'zepto_powerbi_master.csv'\")\n"
   ]
  },
  {
   "cell_type": "code",
   "execution_count": null,
   "id": "570d84e0-f22e-4b62-acac-dcfdc8530372",
   "metadata": {},
   "outputs": [],
   "source": []
  }
 ],
 "metadata": {
  "kernelspec": {
   "display_name": "Python 3 (ipykernel)",
   "language": "python",
   "name": "python3"
  },
  "language_info": {
   "codemirror_mode": {
    "name": "ipython",
    "version": 3
   },
   "file_extension": ".py",
   "mimetype": "text/x-python",
   "name": "python",
   "nbconvert_exporter": "python",
   "pygments_lexer": "ipython3",
   "version": "3.12.3"
  }
 },
 "nbformat": 4,
 "nbformat_minor": 5
}
